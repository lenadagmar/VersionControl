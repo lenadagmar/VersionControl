{
 "cells": [
  {
   "cell_type": "code",
   "execution_count": 4,
   "metadata": {},
   "outputs": [
    {
     "name": "stdin",
     "output_type": "stream",
     "text": [
      "What's your name? Lena Carson\n",
      "When is your birthday? August 28th 2006\n",
      "Where are you from? Pittsburgh, PA\n"
     ]
    },
    {
     "name": "stdout",
     "output_type": "stream",
     "text": [
      "My name is Lena Carson and I am from Pittsburgh, PA. I was born on August 28th 2006.\n"
     ]
    }
   ],
   "source": [
    "# print self-introduction \n",
    "\n",
    "try:\n",
    "    name=input(\"What's your name?\")\n",
    "    birthday=input(\"When is your birthday?\")\n",
    "    hometown=(input(\"Where are you from?\"))\n",
    "    \n",
    "except: \n",
    "    print(\"Invalid input. Please try again.\")\n",
    "\n",
    "\n",
    "print(\"My name is \"+name+\" and I am from \"+hometown+\". I was born on \"+birthday+\".\")"
   ]
  }
 ],
 "metadata": {
  "kernelspec": {
   "display_name": "Python 3",
   "language": "python",
   "name": "python3"
  },
  "language_info": {
   "codemirror_mode": {
    "name": "ipython",
    "version": 3
   },
   "file_extension": ".py",
   "mimetype": "text/x-python",
   "name": "python",
   "nbconvert_exporter": "python",
   "pygments_lexer": "ipython3",
   "version": "3.8.3"
  }
 },
 "nbformat": 4,
 "nbformat_minor": 4
}
